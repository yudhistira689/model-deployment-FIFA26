{
  "cells": [
    {
      "cell_type": "markdown",
      "metadata": {
        "id": "pYkSQY75z-_h"
      },
      "source": [
        "# Phase 1 - Week 1 - Day 1 PM - Machine Learning Problem Framing - Inference"
      ]
    },
    {
      "cell_type": "markdown",
      "metadata": {
        "id": "h005RwSKGD7d"
      },
      "source": [
        "# Import Library"
      ]
    },
    {
      "cell_type": "code",
      "execution_count": 1,
      "metadata": {
        "id": "Hxixz6iwFsOy"
      },
      "outputs": [],
      "source": [
        "# Import libraries\n",
        "\n",
        "import pickle\n",
        "import json\n",
        "import pandas as pd\n",
        "import numpy as np"
      ]
    },
    {
      "cell_type": "markdown",
      "metadata": {
        "id": "vF9hDdNCGMlu"
      },
      "source": [
        "# Load Model"
      ]
    },
    {
      "cell_type": "code",
      "execution_count": 2,
      "metadata": {
        "id": "KIHmwpLwGPcT"
      },
      "outputs": [],
      "source": [
        "# Load all files\n",
        "\n",
        "with open('model_lin_reg.pkl', 'rb') as file_1:\n",
        "  model_lin_reg = pickle.load(file_1)\n",
        "\n",
        "with open('model_scaler.pkl', 'rb') as file_2:\n",
        "  model_scaler = pickle.load(file_2)\n",
        "\n",
        "with open('model_encoder.pkl','rb') as file_3:\n",
        "  model_encoder = pickle.load(file_3)\n",
        "\n",
        "with open('list_num_cols.txt', 'r') as file_4:\n",
        "  list_num_cols = json.load(file_4)\n",
        "\n",
        "with open('list_cat_cols.txt', 'r') as file_5:\n",
        "  list_cat_cols = json.load(file_5)"
      ]
    },
    {
      "cell_type": "markdown",
      "metadata": {
        "id": "m5qxuP98GMkL"
      },
      "source": [
        "# Inferencing"
      ]
    },
    {
      "cell_type": "code",
      "execution_count": 3,
      "metadata": {
        "colab": {
          "base_uri": "https://localhost:8080/",
          "height": 118
        },
        "id": "QHCquM9PHCEb",
        "outputId": "023c3de7-e217-4717-c22f-f7bd1e5d7f1c"
      },
      "outputs": [
        {
          "data": {
            "text/html": [
              "<div>\n",
              "<style scoped>\n",
              "    .dataframe tbody tr th:only-of-type {\n",
              "        vertical-align: middle;\n",
              "    }\n",
              "\n",
              "    .dataframe tbody tr th {\n",
              "        vertical-align: top;\n",
              "    }\n",
              "\n",
              "    .dataframe thead th {\n",
              "        text-align: right;\n",
              "    }\n",
              "</style>\n",
              "<table border=\"1\" class=\"dataframe\">\n",
              "  <thead>\n",
              "    <tr style=\"text-align: right;\">\n",
              "      <th></th>\n",
              "      <th>Name</th>\n",
              "      <th>Age</th>\n",
              "      <th>Height</th>\n",
              "      <th>Weight</th>\n",
              "      <th>Price</th>\n",
              "      <th>AttackingWorkRate</th>\n",
              "      <th>DefensiveWorkRate</th>\n",
              "      <th>PaceTotal</th>\n",
              "      <th>ShootingTotal</th>\n",
              "      <th>PassingTotal</th>\n",
              "      <th>DribblingTotal</th>\n",
              "      <th>DefendingTotal</th>\n",
              "      <th>PhysicalityTotal</th>\n",
              "    </tr>\n",
              "  </thead>\n",
              "  <tbody>\n",
              "    <tr>\n",
              "      <th>0</th>\n",
              "      <td>John Doe</td>\n",
              "      <td>26</td>\n",
              "      <td>172</td>\n",
              "      <td>70</td>\n",
              "      <td>0</td>\n",
              "      <td>High</td>\n",
              "      <td>Medium</td>\n",
              "      <td>60</td>\n",
              "      <td>60</td>\n",
              "      <td>70</td>\n",
              "      <td>60</td>\n",
              "      <td>60</td>\n",
              "      <td>60</td>\n",
              "    </tr>\n",
              "  </tbody>\n",
              "</table>\n",
              "</div>"
            ],
            "text/plain": [
              "       Name  Age  Height  Weight  Price AttackingWorkRate DefensiveWorkRate  \\\n",
              "0  John Doe   26     172      70      0              High            Medium   \n",
              "\n",
              "   PaceTotal  ShootingTotal  PassingTotal  DribblingTotal  DefendingTotal  \\\n",
              "0         60             60            70              60              60   \n",
              "\n",
              "   PhysicalityTotal  \n",
              "0                60  "
            ]
          },
          "execution_count": 3,
          "metadata": {},
          "output_type": "execute_result"
        }
      ],
      "source": [
        "# Create a new data\n",
        "# Use all columns not just the results of feature selection\n",
        "\n",
        "data_inf = {\n",
        "    'Name': 'John Doe',\n",
        "    'Age': 26,\n",
        "    'Height': 172,\n",
        "    'Weight': 70,\n",
        "    'Price': 0,\n",
        "    'AttackingWorkRate': 'High',\n",
        "    'DefensiveWorkRate': 'Medium',\n",
        "    'PaceTotal': 60,\n",
        "    'ShootingTotal': 60,\n",
        "    'PassingTotal': 70,\n",
        "    'DribblingTotal': 60,\n",
        "    'DefendingTotal': 60,\n",
        "    'PhysicalityTotal':60\n",
        "}\n",
        "\n",
        "data_inf = pd.DataFrame([data_inf])\n",
        "data_inf"
      ]
    },
    {
      "cell_type": "code",
      "execution_count": 4,
      "metadata": {
        "colab": {
          "base_uri": "https://localhost:8080/",
          "height": 89
        },
        "id": "MjbxpJJuIE9e",
        "outputId": "34c44b7a-8008-4c7a-8a96-7009682c4d79"
      },
      "outputs": [
        {
          "data": {
            "text/html": [
              "<div>\n",
              "<style scoped>\n",
              "    .dataframe tbody tr th:only-of-type {\n",
              "        vertical-align: middle;\n",
              "    }\n",
              "\n",
              "    .dataframe tbody tr th {\n",
              "        vertical-align: top;\n",
              "    }\n",
              "\n",
              "    .dataframe thead th {\n",
              "        text-align: right;\n",
              "    }\n",
              "</style>\n",
              "<table border=\"1\" class=\"dataframe\">\n",
              "  <thead>\n",
              "    <tr style=\"text-align: right;\">\n",
              "      <th></th>\n",
              "      <th>Age</th>\n",
              "      <th>Height</th>\n",
              "      <th>Weight</th>\n",
              "      <th>Price</th>\n",
              "      <th>PaceTotal</th>\n",
              "      <th>ShootingTotal</th>\n",
              "      <th>PassingTotal</th>\n",
              "      <th>DribblingTotal</th>\n",
              "      <th>DefendingTotal</th>\n",
              "      <th>PhysicalityTotal</th>\n",
              "    </tr>\n",
              "  </thead>\n",
              "  <tbody>\n",
              "    <tr>\n",
              "      <th>0</th>\n",
              "      <td>26</td>\n",
              "      <td>172</td>\n",
              "      <td>70</td>\n",
              "      <td>0</td>\n",
              "      <td>60</td>\n",
              "      <td>60</td>\n",
              "      <td>70</td>\n",
              "      <td>60</td>\n",
              "      <td>60</td>\n",
              "      <td>60</td>\n",
              "    </tr>\n",
              "  </tbody>\n",
              "</table>\n",
              "</div>"
            ],
            "text/plain": [
              "   Age  Height  Weight  Price  PaceTotal  ShootingTotal  PassingTotal  \\\n",
              "0   26     172      70      0         60             60            70   \n",
              "\n",
              "   DribblingTotal  DefendingTotal  PhysicalityTotal  \n",
              "0              60              60                60  "
            ]
          },
          "execution_count": 4,
          "metadata": {},
          "output_type": "execute_result"
        }
      ],
      "source": [
        "# Split between numerical columns and categorical columns\n",
        "\n",
        "data_inf_num = data_inf[list_num_cols]\n",
        "data_inf_cat = data_inf[list_cat_cols]\n",
        "data_inf_num"
      ]
    },
    {
      "cell_type": "code",
      "execution_count": 5,
      "metadata": {
        "colab": {
          "base_uri": "https://localhost:8080/"
        },
        "id": "8udqZ_XpISQL",
        "outputId": "1ce7f7eb-a843-4202-8ef7-002a991a4f03"
      },
      "outputs": [
        {
          "data": {
            "text/plain": [
              "array([[0.26315789, 0.33333333, 0.3442623 , 0.        , 0.46376812,\n",
              "        0.55263158, 0.66176471, 0.51515152, 0.5974026 , 0.49206349,\n",
              "        2.        , 1.        ]])"
            ]
          },
          "execution_count": 5,
          "metadata": {},
          "output_type": "execute_result"
        }
      ],
      "source": [
        "# Feature Scaling and Feature Encoding\n",
        "\n",
        "## Feature Scaling\n",
        "data_inf_num_scaled = model_scaler.transform(data_inf_num)\n",
        "\n",
        "## Feature Encoding\n",
        "data_inf_cat_encoded = model_encoder.transform(data_inf_cat)\n",
        "\n",
        "## Concate\n",
        "data_inf_final = np.concatenate([data_inf_num_scaled, data_inf_cat_encoded], axis=1)\n",
        "data_inf_final"
      ]
    },
    {
      "cell_type": "code",
      "execution_count": 6,
      "metadata": {
        "colab": {
          "base_uri": "https://localhost:8080/"
        },
        "id": "Kb_dbDlwIl9w",
        "outputId": "d47e8c33-7744-4e42-cb60-8738fca92c8b"
      },
      "outputs": [
        {
          "data": {
            "text/plain": [
              "array([64.26575671])"
            ]
          },
          "execution_count": 6,
          "metadata": {},
          "output_type": "execute_result"
        }
      ],
      "source": [
        "# Predict using Linear Regression\n",
        "\n",
        "y_pred_inf = model_lin_reg.predict(data_inf_final)\n",
        "y_pred_inf"
      ]
    }
  ],
  "metadata": {
    "colab": {
      "provenance": []
    },
    "kernelspec": {
      "display_name": "h8_env",
      "language": "python",
      "name": "python3"
    },
    "language_info": {
      "codemirror_mode": {
        "name": "ipython",
        "version": 3
      },
      "file_extension": ".py",
      "mimetype": "text/x-python",
      "name": "python",
      "nbconvert_exporter": "python",
      "pygments_lexer": "ipython3",
      "version": "3.9.23"
    }
  },
  "nbformat": 4,
  "nbformat_minor": 0
}
